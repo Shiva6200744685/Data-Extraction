{
 "cells": [
  {
   "cell_type": "code",
   "execution_count": 67,
   "metadata": {},
   "outputs": [],
   "source": [
    "import pandas as pd \n",
    "import requests\n",
    "from bs4  import BeautifulSoup"
   ]
  },
  {
   "cell_type": "code",
   "execution_count": 68,
   "metadata": {},
   "outputs": [],
   "source": [
    "product_name = []\n",
    "product_price = []\n",
    "description = []\n",
    "product_reviews = []\n",
    "product_reviews = []"
   ]
  },
  {
   "cell_type": "code",
   "execution_count": 69,
   "metadata": {},
   "outputs": [],
   "source": [
    "def get_name(box):\n",
    "    names = box.find_all('div', class_='KzDlHZ')\n",
    "    # print(names)\n",
    "    for i in names:\n",
    "        product_name.append(i.text)"
   ]
  },
  {
   "cell_type": "code",
   "execution_count": 70,
   "metadata": {},
   "outputs": [],
   "source": [
    "def get_price(box):\n",
    "    price = box.find_all('div', class_='Nx9bqj _4b5DiR')\n",
    "    # print(price)\n",
    "    for i in price:\n",
    "        product_price.append(i.text)"
   ]
  },
  {
   "cell_type": "code",
   "execution_count": 71,
   "metadata": {},
   "outputs": [],
   "source": [
    "def get_des(box):\n",
    "    desc = box.find_all('ul', class_='G4BRas')\n",
    "    # print(desc)\n",
    "    for i in desc:\n",
    "        description.append(i.text)"
   ]
  },
  {
   "cell_type": "code",
   "execution_count": 72,
   "metadata": {},
   "outputs": [],
   "source": [
    "def get_review(box):\n",
    "    reviews = box.find_all('div', class_='XQDdHH')\n",
    "    # print(reviews)\n",
    "    for i in reviews:\n",
    "        product_reviews.append(i.text)"
   ]
  },
  {
   "cell_type": "code",
   "execution_count": 73,
   "metadata": {},
   "outputs": [
    {
     "name": "stdout",
     "output_type": "stream",
     "text": [
      "Page 1 Scrapped\n",
      "Page 2 Scrapped\n",
      "Page 3 Scrapped\n",
      "Page 4 Scrapped\n",
      "Page 5 Scrapped\n",
      "Page 6 Scrapped\n",
      "Page 7 Scrapped\n",
      "Page 8 Scrapped\n",
      "Page 9 Scrapped\n",
      "Page 10 Scrapped\n",
      "Page 11 Scrapped\n",
      "Page 12 Scrapped\n",
      "Page 13 Scrapped\n",
      "Page 14 Scrapped\n",
      "Page 15 Scrapped\n",
      "Page 16 Scrapped\n",
      "Page 17 Scrapped\n",
      "Page 18 Scrapped\n",
      "Page 19 Scrapped\n",
      "Page 20 Scrapped\n",
      "Page 21 Scrapped\n",
      "Page 22 Scrapped\n",
      "Page 23 Scrapped\n"
     ]
    }
   ],
   "source": [
    "# for i in range(2, 10):\n",
    "if __name__ == '__main__':\n",
    "\n",
    "    for i in range(1,24):\n",
    "    \n",
    "        url = \"https://www.flipkart.com/search?q=smartphone&otracker=search&otracker1=search&marketplace=FLIPKART&as-show=on&as=off&page=\"+str(1)\n",
    "\n",
    "        HEADERS = ({'User-Agent':'Mozilla/5.0 (Windows NT 10.0; Win64; x64) AppleWebKit/537.36 (KHTML, like Gecko) Chrome/129.0.0.0 Safari/537.36', 'Accept-Language': 'en-US, en;q=0.5'}) #add your user agent                                         \n",
    "        r= requests.get(url,  headers=HEADERS)\n",
    "        soup = BeautifulSoup(r.content, 'lxml')\n",
    "        # to find particular section of data \n",
    "        box = soup.find('div', class_='DOjaWF gdgoEp')\n",
    "        get_name(box)\n",
    "        get_price(box)\n",
    "        get_des(box)\n",
    "        get_review(box)\n",
    "        print(\"Page\", i, \"Scrapped\")"
   ]
  },
  {
   "cell_type": "code",
   "execution_count": 74,
   "metadata": {},
   "outputs": [
    {
     "data": {
      "text/html": [
       "<div>\n",
       "<style scoped>\n",
       "    .dataframe tbody tr th:only-of-type {\n",
       "        vertical-align: middle;\n",
       "    }\n",
       "\n",
       "    .dataframe tbody tr th {\n",
       "        vertical-align: top;\n",
       "    }\n",
       "\n",
       "    .dataframe thead th {\n",
       "        text-align: right;\n",
       "    }\n",
       "</style>\n",
       "<table border=\"1\" class=\"dataframe\">\n",
       "  <thead>\n",
       "    <tr style=\"text-align: right;\">\n",
       "      <th></th>\n",
       "      <th>Product Name</th>\n",
       "      <th>Product Price</th>\n",
       "      <th>Description</th>\n",
       "      <th>Product Reviews</th>\n",
       "    </tr>\n",
       "  </thead>\n",
       "  <tbody>\n",
       "    <tr>\n",
       "      <th>0</th>\n",
       "      <td>CMF by Nothing Phone 1 (Black, 128 GB)</td>\n",
       "      <td>₹14,999</td>\n",
       "      <td>6 GB RAM | 128 GB ROM | Expandable Upto 2 TB16...</td>\n",
       "      <td>4.4</td>\n",
       "    </tr>\n",
       "    <tr>\n",
       "      <th>1</th>\n",
       "      <td>vivo V30 Pro 5G (Andaman Blue, 512 GB)</td>\n",
       "      <td>₹43,999</td>\n",
       "      <td>12 GB RAM | 512 GB ROM17.22 cm (6.78 inch) Ful...</td>\n",
       "      <td>4.5</td>\n",
       "    </tr>\n",
       "    <tr>\n",
       "      <th>2</th>\n",
       "      <td>Apple iPhone 15 (Blue, 128 GB)</td>\n",
       "      <td>₹57,999</td>\n",
       "      <td>128 GB ROM15.49 cm (6.1 inch) Super Retina XDR...</td>\n",
       "      <td>4.6</td>\n",
       "    </tr>\n",
       "    <tr>\n",
       "      <th>3</th>\n",
       "      <td>REDMI 13C (Stardust Black, 128 GB)</td>\n",
       "      <td>₹7,199</td>\n",
       "      <td>4 GB RAM | 128 GB ROM | Expandable Upto 1 TB17...</td>\n",
       "      <td>4.3</td>\n",
       "    </tr>\n",
       "    <tr>\n",
       "      <th>4</th>\n",
       "      <td>POCO M6 5G (Orion Blue, 64 GB)</td>\n",
       "      <td>₹7,999</td>\n",
       "      <td>4 GB RAM | 64 GB ROM | Expandable Upto 1 TB17....</td>\n",
       "      <td>4.1</td>\n",
       "    </tr>\n",
       "    <tr>\n",
       "      <th>...</th>\n",
       "      <td>...</td>\n",
       "      <td>...</td>\n",
       "      <td>...</td>\n",
       "      <td>...</td>\n",
       "    </tr>\n",
       "    <tr>\n",
       "      <th>547</th>\n",
       "      <td>realme 12x 5G (Coral Red, 128 GB)</td>\n",
       "      <td>₹13,499</td>\n",
       "      <td>8 GB RAM | 128 GB ROM | Expandable Upto 2 TB17...</td>\n",
       "      <td>4.5</td>\n",
       "    </tr>\n",
       "    <tr>\n",
       "      <th>548</th>\n",
       "      <td>vivo T3x 5G (Crimson Bliss, 128 GB)</td>\n",
       "      <td>₹15,999</td>\n",
       "      <td>8 GB RAM | 128 GB ROM | Expandable Upto 1 TB17...</td>\n",
       "      <td>4.4</td>\n",
       "    </tr>\n",
       "    <tr>\n",
       "      <th>549</th>\n",
       "      <td>Apple iPhone 15 Plus (Blue, 128 GB)</td>\n",
       "      <td>₹65,999</td>\n",
       "      <td>128 GB ROM17.02 cm (6.7 inch) Super Retina XDR...</td>\n",
       "      <td>4.6</td>\n",
       "    </tr>\n",
       "    <tr>\n",
       "      <th>550</th>\n",
       "      <td>SAMSUNG Galaxy A14 5G (Light Green, 128 GB)</td>\n",
       "      <td>₹9,999</td>\n",
       "      <td>4 GB RAM | 128 GB ROM | Expandable Upto 1 TB16...</td>\n",
       "      <td>4.2</td>\n",
       "    </tr>\n",
       "    <tr>\n",
       "      <th>551</th>\n",
       "      <td>vivo T3x 5G (Sapphire Blue, 128 GB)</td>\n",
       "      <td>₹15,999</td>\n",
       "      <td>8 GB RAM | 128 GB ROM | Expandable Upto 1 TB17...</td>\n",
       "      <td>4.4</td>\n",
       "    </tr>\n",
       "  </tbody>\n",
       "</table>\n",
       "<p>552 rows × 4 columns</p>\n",
       "</div>"
      ],
      "text/plain": [
       "                                    Product Name Product Price  \\\n",
       "0         CMF by Nothing Phone 1 (Black, 128 GB)       ₹14,999   \n",
       "1         vivo V30 Pro 5G (Andaman Blue, 512 GB)       ₹43,999   \n",
       "2                 Apple iPhone 15 (Blue, 128 GB)       ₹57,999   \n",
       "3             REDMI 13C (Stardust Black, 128 GB)        ₹7,199   \n",
       "4                 POCO M6 5G (Orion Blue, 64 GB)        ₹7,999   \n",
       "..                                           ...           ...   \n",
       "547            realme 12x 5G (Coral Red, 128 GB)       ₹13,499   \n",
       "548          vivo T3x 5G (Crimson Bliss, 128 GB)       ₹15,999   \n",
       "549          Apple iPhone 15 Plus (Blue, 128 GB)       ₹65,999   \n",
       "550  SAMSUNG Galaxy A14 5G (Light Green, 128 GB)        ₹9,999   \n",
       "551          vivo T3x 5G (Sapphire Blue, 128 GB)       ₹15,999   \n",
       "\n",
       "                                           Description Product Reviews  \n",
       "0    6 GB RAM | 128 GB ROM | Expandable Upto 2 TB16...             4.4  \n",
       "1    12 GB RAM | 512 GB ROM17.22 cm (6.78 inch) Ful...             4.5  \n",
       "2    128 GB ROM15.49 cm (6.1 inch) Super Retina XDR...             4.6  \n",
       "3    4 GB RAM | 128 GB ROM | Expandable Upto 1 TB17...             4.3  \n",
       "4    4 GB RAM | 64 GB ROM | Expandable Upto 1 TB17....             4.1  \n",
       "..                                                 ...             ...  \n",
       "547  8 GB RAM | 128 GB ROM | Expandable Upto 2 TB17...             4.5  \n",
       "548  8 GB RAM | 128 GB ROM | Expandable Upto 1 TB17...             4.4  \n",
       "549  128 GB ROM17.02 cm (6.7 inch) Super Retina XDR...             4.6  \n",
       "550  4 GB RAM | 128 GB ROM | Expandable Upto 1 TB16...             4.2  \n",
       "551  8 GB RAM | 128 GB ROM | Expandable Upto 1 TB17...             4.4  \n",
       "\n",
       "[552 rows x 4 columns]"
      ]
     },
     "execution_count": 74,
     "metadata": {},
     "output_type": "execute_result"
    }
   ],
   "source": [
    "df = pd.DataFrame({'Product Name': product_name, 'Product Price': product_price, 'Description': description, 'Product Reviews': product_reviews})\n",
    "df"
   ]
  },
  {
   "cell_type": "code",
   "execution_count": 75,
   "metadata": {},
   "outputs": [],
   "source": [
    "df.to_csv('flipkart_smartphone.csv', index=False, encoding='utf-8')"
   ]
  },
  {
   "cell_type": "code",
   "execution_count": null,
   "metadata": {},
   "outputs": [],
   "source": []
  }
 ],
 "metadata": {
  "kernelspec": {
   "display_name": "Python 3",
   "language": "python",
   "name": "python3"
  },
  "language_info": {
   "codemirror_mode": {
    "name": "ipython",
    "version": 3
   },
   "file_extension": ".py",
   "mimetype": "text/x-python",
   "name": "python",
   "nbconvert_exporter": "python",
   "pygments_lexer": "ipython3",
   "version": "3.11.2"
  }
 },
 "nbformat": 4,
 "nbformat_minor": 2
}
